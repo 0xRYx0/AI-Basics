{
  "nbformat": 4,
  "nbformat_minor": 0,
  "metadata": {
    "kernelspec": {
      "display_name": "Python 3",
      "language": "python",
      "name": "python3"
    },
    "language_info": {
      "codemirror_mode": {
        "name": "ipython",
        "version": 3
      },
      "file_extension": ".py",
      "mimetype": "text/x-python",
      "name": "python",
      "nbconvert_exporter": "python",
      "pygments_lexer": "ipython3",
      "version": "3.7.6"
    },
    "colab": {
      "name": "N-Queens.ipynb",
      "provenance": [],
      "collapsed_sections": []
    }
  },
  "cells": [
    {
      "cell_type": "markdown",
      "metadata": {
        "id": "5GaZ93Uy2SWt"
      },
      "source": [
        "> **Developed by: Rakan Yamani**\n",
        ">\n",
        "> **Master of Artificial Intelligence - KFUPM - 2020**"
      ]
    },
    {
      "cell_type": "markdown",
      "metadata": {
        "id": "G4nlPRwirVgo"
      },
      "source": [
        "This is an implementation in Python for the well known **N-Queen** problem. The goal of the N-queens problem is to place N queens on a chessboard such that no queen attacks any other [**A queen attacks any piece in the same row, column or diagonal**]. \n",
        "\n",
        "There are two main kinds of formulation to solve this problem shown below, but in either case, the path cost is of no interest because only the final state counts.\n",
        "1. **An incremental formulation** involves operators that augment the state description, starting with an empty state; for the 8-queens problem, this means that each action adds a queen to the state. \n",
        "2. **A complete-state formulation** starts with all 8 queens on the board and moves them around. \n",
        "\n",
        "The first incremental formulation one might try is the following:\n",
        "* **States**: Any arrangement of 0 to 8 queens on the board is a state.\n",
        "* **Initial state**: No queens on the board.\n",
        "* **Actions**: Add a queen to any empty square.\n",
        "* **Transition model**: Returns the board with a queen added to the specified square. \n",
        "* **Goal test**: 8 queens are on the board, none attacked.\n",
        "\n",
        "In this formulation, we have $64 · 63 · · · 57 ≈ 1.8 × 10^{14}$ possible sequences to investigate. \n",
        "\n",
        "\n",
        "A better formulation would **prohibit placing a queen in any square that is already attacked**:\n",
        "* **States**: All possible arrangements of n queens (0 ≤ n ≤ 8), one per column in the leftmost n columns, with no queen attacking another.\n",
        "* **Actions**: Add a queen to any square in the leftmost empty column such that it is not attacked by any other queen.\n",
        "\n",
        "This formulation reduces the 8-queens state space from $1.8 × 10^{14}$ to just $2,057$, and solutions are easy to find. On the other hand, for 100 queens the reduction is from roughly $10,400$ states to about $1052$ states — a big improvement, but not enough to make the problem tractable!\n",
        "\n",
        " **Reference**: \n",
        "RUSSELL & NORVIG - Artificial Intelligence: A Modern Approach, 3rd ed.\n",
        "\n"
      ]
    },
    {
      "cell_type": "code",
      "metadata": {
        "colab": {
          "base_uri": "https://localhost:8080/"
        },
        "id": "0KnANNrQhIHQ",
        "outputId": "0fadbd8e-17ad-4b62-fb76-ffab9584873e"
      },
      "source": [
        "import time\n",
        "\n",
        "# Requesting user input to specify Queen's Board Size\n",
        "print (\"Hi there! Please specify the Queen's board size\\n# For 8-queens probem enter: 8\")\n",
        "n = int(input())\n",
        "\n",
        "# Timer for statistical purposes\n",
        "start_time = time.time()\n",
        "\n",
        "results = []        # A list to hold valid states  \n",
        "queens = set()      # A set to hold queens locations at each valid state\n",
        "sol_count = 0       # Global counter for valid solutions\n",
        "assignments= 0      # Global counter for valid assignments\n",
        "\n",
        "# Method to insert queen's location to queens set\n",
        "def place_queen(row,col):\n",
        "    queens.add((row,col))\n",
        "\n",
        "# Method to delete queen's location from queens set \n",
        "def remove_queen(row,col):\n",
        "    queens.remove((row,col))\n",
        "\n",
        "# Method to validate queen's location at a current state \n",
        "def is_save(row,col):\n",
        "    for (q_row,q_col) in queens:\n",
        "        # 2 queens at the same row\n",
        "        if q_row == row:        \n",
        "            return False\n",
        "        # 2 queens at the same column\n",
        "        if q_col == col:        \n",
        "            return False\n",
        "        # 2 queens at the same diagonal\n",
        "        if abs(q_row - row) == abs(q_col - col): # 2 queens at the same column\n",
        "            return False\n",
        "    return True\n",
        "\n",
        "\n",
        "# Method to print a valid state (solution)\n",
        "def print_queens_board(sol_count):\n",
        "    board= []\n",
        "    for row in range(0,n):\n",
        "        board_row = ''\n",
        "        # construct row combinations\n",
        "        for col in range(0,n):\n",
        "            if (row,col) in queens:\n",
        "                board_row += ' ♛ '\n",
        "            else:\n",
        "                board_row += ' ~ '\n",
        "        # append row to the board\n",
        "        board.append(board_row)\n",
        "      \n",
        "    print('\\nSolution#['+ str(sol_count) +']:')\n",
        "    for row in board:\n",
        "        print(row)  \n",
        "    # print('# of assignemnts is', assignments )    \n",
        "    return board\n",
        "\n",
        "\n",
        "# Main recursive method to solve the n-queen problem \n",
        "def queens_controler(row):\n",
        "    global assignments\n",
        "    global sol_count \n",
        "\n",
        "    # Exiting stage when all rows were visited\n",
        "    if row == n:\n",
        "        sol_count+=1\n",
        "        results.append(print_queens_board(sol_count))\n",
        "        \n",
        "\n",
        "    # Visit each column to place a queen    \n",
        "    for col in range(0,n):\n",
        "        if is_save(row,col):\n",
        "            queens.add((row,col))\n",
        "            assignments+=1\n",
        "            queens_controler(row+1)\n",
        "            remove_queen(row,col)\n",
        "\n",
        "# Method to print final statistics           \n",
        "def stats():\n",
        "    print('\\nTotal number of solutions for [{},{}] queens problem is [{}]'.format(n,n,sol_count))\n",
        "    print('Time: %.4f seconds ' % (time.time() - start_time))\n",
        "\n",
        "\n",
        "queens_controler(0)         \n",
        "stats() "
      ],
      "execution_count": 4,
      "outputs": [
        {
          "output_type": "stream",
          "name": "stdout",
          "text": [
            "Hi there! Please specify the Queen's board size\n",
            "# For 8-queens probem enter: 8\n",
            "4\n",
            "\n",
            "Solution#[1]:\n",
            " ~  ♛  ~  ~ \n",
            " ~  ~  ~  ♛ \n",
            " ♛  ~  ~  ~ \n",
            " ~  ~  ♛  ~ \n",
            "\n",
            "Solution#[2]:\n",
            " ~  ~  ♛  ~ \n",
            " ♛  ~  ~  ~ \n",
            " ~  ~  ~  ♛ \n",
            " ~  ♛  ~  ~ \n",
            "\n",
            "Total number of solutions for [4,4] queens problem is [2]\n",
            "Time: 0.0017 seconds \n"
          ]
        }
      ]
    },
    {
      "cell_type": "code",
      "metadata": {
        "id": "yWhDMrKGQsGY"
      },
      "source": [
        ""
      ],
      "execution_count": 4,
      "outputs": []
    }
  ]
}